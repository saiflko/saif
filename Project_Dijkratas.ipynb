{
 "cells": [
  {
   "cell_type": "code",
   "execution_count": 34,
   "id": "098eb000",
   "metadata": {},
   "outputs": [],
   "source": [
    "import pandas as pd\n",
    "import numpy as np\n",
    "import copy\n",
    "from pandas import *\n",
    "import scipy.optimize as sopt\n",
    "import networkx as nx\n",
    "from networkx.drawing.nx_agraph import to_agraph\n",
    "import matplotlib.pyplot as plt\n",
    "from itertools import permutations\n",
    "from scipy.optimize import minimize_scalar, minimize, root\n",
    "from scipy.optimize import bisect\n",
    "np.set_printoptions(precision=3)"
   ]
  },
  {
   "cell_type": "markdown",
   "id": "5ee0fa93",
   "metadata": {},
   "source": [
    "### Import Data"
   ]
  },
  {
   "cell_type": "code",
   "execution_count": 36,
   "id": "5f424f93",
   "metadata": {},
   "outputs": [],
   "source": [
    "link_data = pd.read_excel('link_data.xlsx')\n",
    "OD_matrix = pd.read_excel('O-D_matrix.xlsx')\n",
    "link_data['cap'] = link_data['cap'] * 1000\n",
    "#print(link_data)\n",
    "#print(OD_matrix)"
   ]
  },
  {
   "cell_type": "markdown",
   "id": "38904f0c",
   "metadata": {},
   "source": [
    "### Functions Defined"
   ]
  },
  {
   "cell_type": "code",
   "execution_count": 37,
   "id": "dc4dac99",
   "metadata": {},
   "outputs": [],
   "source": [
    "def tt_func(df):\n",
    "    t0 = np.array(df.t0)\n",
    "    cap = np.array(df.cap)\n",
    "    x = np.array(df.x)\n",
    "    return np.multiply(t0,(1+ 0.15*(np.power(np.divide(x,cap),4))))\n",
    "\n",
    "def convergence(x_n,x_n1):\n",
    "    return np.sqrt(np.sum(np.power(np.subtract(x_n1,x_n),2))) / np.sum(x_n)\n",
    "\n",
    "def return_tt(df):\n",
    "    x_n = np.array(df['x'])\n",
    "    t0 = np.array(df.t0)\n",
    "    ca = np.array(df.cap)\n",
    "    obj =  np.sum(np.multiply(t0,np.add(x_n,0.15*np.divide(np.power(x_n,4),np.power(ca,4)))))\n",
    "    return obj\n",
    "\n",
    "def obj_func(alpha,df):\n",
    "    y = np.array(df.y)\n",
    "    x_n = np.array(df.x)\n",
    "    t0 = np.array(df.t0)\n",
    "    ca = np.array(df.cap)\n",
    "    x_sub = np.add(x_n,alpha * np.subtract(y,x_n))\n",
    "    obj = np.sum(np.multiply(t0,np.add(x_sub,(0.15/5)*np.divide(np.power(x_sub,5),np.power(ca,4)))))\n",
    "    return obj"
   ]
  },
  {
   "cell_type": "markdown",
   "id": "f23feb09",
   "metadata": {},
   "source": [
    "### Function for Dijkstra"
   ]
  },
  {
   "cell_type": "code",
   "execution_count": 38,
   "id": "03f6e164",
   "metadata": {},
   "outputs": [],
   "source": [
    "def dijkstra_sp(orig,dest,df):\n",
    "    G1=nx.DiGraph()\n",
    "    #list_nodes=[1,2,3,4,5,6,7,8,9,10,\n",
    "              # 11,12,13,14,15,16,17,18,19,20,21,22,23,24]\n",
    "    #G1.add_nodes_from(list_nodes)\n",
    "    G1.add_edges_from([(link_data['O'][i],link_data['D'][i],{'weight': link_data['tt'][i]}) for i in link_data.index])\n",
    "    #print(G1.edges(data=True))\n",
    "    path = nx.dijkstra_path(G1, source=orig, target=dest)\n",
    "    return path"
   ]
  },
  {
   "cell_type": "code",
   "execution_count": 39,
   "id": "4d36f16f",
   "metadata": {},
   "outputs": [
    {
     "name": "stdout",
     "output_type": "stream",
     "text": [
      "[1, 2, 6]\n"
     ]
    }
   ],
   "source": [
    "path=dijkstra_sp(1,6,link_data)\n",
    "print(path)\n"
   ]
  },
  {
   "cell_type": "markdown",
   "id": "0f9a318b",
   "metadata": {},
   "source": [
    "### UE "
   ]
  },
  {
   "cell_type": "code",
   "execution_count": 41,
   "id": "8667d3de",
   "metadata": {},
   "outputs": [
    {
     "name": "stdout",
     "output_type": "stream",
     "text": [
      "Step :  1\n",
      "Alpha :  1\n",
      "Z :  1166084.8194119025\n",
      "Step :  2\n",
      "Alpha :  0.10114836241844098\n",
      "Z :  1192466.3027538548\n",
      "Conv :  0.004341813199692053\n",
      "Step :  3\n",
      "Alpha :  5.9608609865491405e-06\n",
      "Z :  1192466.345780796\n",
      "Conv :  2.447495417607257e-07\n",
      "    Link   O   D   t0      cap             x        tt      y     ratio\n",
      "0      1   1   2  3.6   6020.0   4240.319305  3.732924   3710  0.704372\n",
      "1      2   1   3  2.4   9010.0  11659.680695  3.409600  12190  1.294082\n",
      "2      3   2   1  3.6  12020.0   4300.012101  3.608844   6330  0.357738\n",
      "3      4   2   6  3.0  15920.0  11330.319305  3.115454  10800  0.711703\n",
      "4      5   3   1  2.4  46810.0  11599.987899  2.401358   9570  0.247810\n",
      "..   ...  ..  ..  ...      ...           ...       ...    ...       ...\n",
      "71    72  23  22  2.4  10000.0   3178.714652  2.403675   8410  0.317871\n",
      "72    73  23  24  1.2  10160.0   4380.292494  1.206219   3050  0.431131\n",
      "73    74  24  13  2.4  11380.0  11058.065487  2.720960  10330  0.971710\n",
      "74    75  24  21  1.8   9770.0   8931.604653  1.988586   3170  0.914187\n",
      "75    76  24  23  1.2  10160.0   7768.368536  1.261519  12730  0.764603\n",
      "\n",
      "[76 rows x 9 columns]\n"
     ]
    }
   ],
   "source": [
    "### start with intitialization\n",
    "## Initialization\n",
    "link_data['x'] = 0\n",
    "link_data['y'] = 0\n",
    "Z = []\n",
    "#T=[]\n",
    "conv_test = 100\n",
    "loop = 1\n",
    "cap = link_data['cap']\n",
    "while conv_test > 1e-6:\n",
    "    print('Step : ', loop)\n",
    "    link_data['y'] = 0\n",
    "    x_n = np.array(link_data['x'])\n",
    "    link_data['tt'] = tt_func(link_data)\n",
    "    for i in range (len(OD_matrix)):\n",
    "        orig=OD_matrix['O'][i]\n",
    "        dest=OD_matrix['D'][i]\n",
    "        fl=OD_matrix['Q'][i]\n",
    "        path=dijkstra_sp(orig,dest,link_data)\n",
    "        for k in range(len(path)-1):\n",
    "            d_new = path[k] \n",
    "            o_new = path[k+1]\n",
    "            link_data.loc[(link_data.O==o_new) & (link_data.D==d_new),'y'] +=fl\n",
    "    if loop!= 1:\n",
    "        alpha = minimize_scalar(obj_func,args=(link_data), bounds=(0.0, 1.0),method='bounded').x\n",
    "    else :\n",
    "        alpha = 1\n",
    "    print(\"Alpha : \",alpha)\n",
    "    print(\"Z : \",obj_func(alpha,link_data))\n",
    "    Z.append(obj_func(alpha,link_data))\n",
    "    y = np.array(link_data['y'])\n",
    "    #print(x_n,y)\n",
    "    x_n1 = x_n + alpha * (y-x_n)\n",
    "    link_data['x'] = x_n1 ## Update x to update t\n",
    "    #print(\"T : \",return_tt(link_data))\n",
    "    #T.append(return_tt(link_data))\n",
    "    if loop != 1:\n",
    "        conv_test= convergence(x_n,x_n1)\n",
    "        print(\"Conv : \",conv_test)\n",
    "    loop += 1\n",
    "link_data['ratio'] = link_data['x'] / link_data['cap']\n",
    "print(link_data)\n",
    "        "
   ]
  },
  {
   "cell_type": "code",
   "execution_count": 29,
   "id": "13da57f2",
   "metadata": {},
   "outputs": [],
   "source": [
    "# for i in range (len(OD_matrix)):\n",
    "#         orig=OD_matrix['O'][i]\n",
    "#         dest=OD_matrix['D'][i]\n",
    "#         fl=OD_matrix['Q'][i]\n",
    "#         print(orig,dest,fl)"
   ]
  },
  {
   "cell_type": "code",
   "execution_count": null,
   "id": "eca635d3",
   "metadata": {},
   "outputs": [],
   "source": []
  },
  {
   "cell_type": "code",
   "execution_count": null,
   "id": "a3ca9c0a",
   "metadata": {},
   "outputs": [],
   "source": []
  }
 ],
 "metadata": {
  "kernelspec": {
   "display_name": "Python 3 (ipykernel)",
   "language": "python",
   "name": "python3"
  },
  "language_info": {
   "codemirror_mode": {
    "name": "ipython",
    "version": 3
   },
   "file_extension": ".py",
   "mimetype": "text/x-python",
   "name": "python",
   "nbconvert_exporter": "python",
   "pygments_lexer": "ipython3",
   "version": "3.9.12"
  }
 },
 "nbformat": 4,
 "nbformat_minor": 5
}
